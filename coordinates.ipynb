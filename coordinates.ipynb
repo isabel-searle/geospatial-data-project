{
 "cells": [
  {
   "cell_type": "code",
   "execution_count": 1,
   "metadata": {},
   "outputs": [],
   "source": [
    "from pymongo import MongoClient\n",
    "import pandas as pd\n",
    "import matplotlib.pyplot as plt"
   ]
  },
  {
   "cell_type": "code",
   "execution_count": 2,
   "metadata": {},
   "outputs": [],
   "source": [
    "client = MongoClient()\n",
    "db = client.get_database(\"companies\")"
   ]
  },
  {
   "cell_type": "code",
   "execution_count": 3,
   "metadata": {},
   "outputs": [
    {
     "data": {
      "text/plain": [
       "18801"
      ]
     },
     "execution_count": 3,
     "metadata": {},
     "output_type": "execute_result"
    }
   ],
   "source": [
    "len(list(db.companies.find({})))"
   ]
  },
  {
   "cell_type": "code",
   "execution_count": 4,
   "metadata": {},
   "outputs": [],
   "source": [
    "comp = db.companies"
   ]
  },
  {
   "cell_type": "code",
   "execution_count": 5,
   "metadata": {},
   "outputs": [],
   "source": [
    "# I create a new collection with the offices in USA, and discard all companies with no coordinates:\n",
    "res = comp.aggregate([\n",
    "                      {\"$unwind\":\"$offices\" },\n",
    "                      {\"$match\":{\"offices.latitude\":{\"$ne\":None}}},\n",
    "                      {\"$match\":{\"offices.longitude\":{\"$ne\":None}}},\n",
    "                      {\"$project\":{\"_id\":0}} \n",
    "                                             \n",
    "                     ])"
   ]
  },
  {
   "cell_type": "code",
   "execution_count": 6,
   "metadata": {},
   "outputs": [
    {
     "data": {
      "text/plain": [
       "<pymongo.command_cursor.CommandCursor at 0x1289e31f0>"
      ]
     },
     "execution_count": 6,
     "metadata": {},
     "output_type": "execute_result"
    }
   ],
   "source": [
    "res"
   ]
  },
  {
   "cell_type": "code",
   "execution_count": 7,
   "metadata": {},
   "outputs": [
    {
     "data": {
      "text/plain": [
       "<pymongo.results.InsertManyResult at 0x12a657680>"
      ]
     },
     "execution_count": 7,
     "metadata": {},
     "output_type": "execute_result"
    }
   ],
   "source": [
    "db.companies_unwinded.insert_many(res)"
   ]
  },
  {
   "cell_type": "code",
   "execution_count": 8,
   "metadata": {},
   "outputs": [],
   "source": [
    "offices = db.companies_unwinded"
   ]
  },
  {
   "cell_type": "code",
   "execution_count": 9,
   "metadata": {},
   "outputs": [],
   "source": [
    "for c in res:\n",
    "    filt = {\"_id\":c[\"_id\"]}\n",
    "    coord = {\n",
    "              \"type\": \"Point\",\n",
    "              \"coordinates\": [c[\"offices\"][\"longitude\"], c[\"offices\"][\"latitude\"]]\n",
    "            }\n",
    "    update = {\"$set\":{\"coord\":coord}}\n",
    "    offices.update_one(filt,update)"
   ]
  },
  {
   "cell_type": "code",
   "execution_count": 13,
   "metadata": {},
   "outputs": [
    {
     "data": {
      "text/plain": [
       "Collection(Database(MongoClient(host=['localhost:27017'], document_class=dict, tz_aware=False, connect=True), 'companies'), 'companies_unwinded')"
      ]
     },
     "execution_count": 13,
     "metadata": {},
     "output_type": "execute_result"
    }
   ],
   "source": [
    "offices"
   ]
  },
  {
   "cell_type": "code",
   "execution_count": 14,
   "metadata": {},
   "outputs": [],
   "source": [
    "point = {\"type\":\"Point\",\n",
    "         \"coordinates\":[-81.104318, 32.077052]}\n",
    "\n",
    "query ={\n",
    "    \"coord\":{\n",
    "        \"$near\":{\n",
    "            \"$geometry\":point,\n",
    "            \"$maxDistance\":100_000,\n",
    "            #\"$minDistance\":\n",
    "        }\n",
    "    }\n",
    "}\n",
    "\n",
    "res = offices.find(query,{\"offices\":1})"
   ]
  },
  {
   "cell_type": "code",
   "execution_count": null,
   "metadata": {},
   "outputs": [],
   "source": []
  },
  {
   "cell_type": "code",
   "execution_count": 9,
   "metadata": {},
   "outputs": [],
   "source": [
    "filter_query={\"deadpooled_year\":{\"$ne\":\"null\"},'offices.state_code':'CA',\"category_code\":{\"$in\":['web', 'mobile', 'games_video', 'software', \n",
    "                                                                       'photo_video', 'biotech', 'cleantech']}}\n",
    "project={\"offices\":1}\n",
    "res=offices.find(filter_query,project)"
   ]
  }
 ],
 "metadata": {
  "kernelspec": {
   "display_name": "Python 3",
   "language": "python",
   "name": "python3.8"
  },
  "language_info": {
   "codemirror_mode": {
    "name": "ipython",
    "version": 3
   },
   "file_extension": ".py",
   "mimetype": "text/x-python",
   "name": "python",
   "nbconvert_exporter": "python",
   "pygments_lexer": "ipython3",
   "version": "3.8.6"
  }
 },
 "nbformat": 4,
 "nbformat_minor": 4
}
