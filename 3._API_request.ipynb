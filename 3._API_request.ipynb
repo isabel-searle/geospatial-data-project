{
 "cells": [
  {
   "cell_type": "markdown",
   "metadata": {},
   "source": [
    "Once we know that Los Angeles is the county where we will install aour office I make a few reaquest through Forsquare in order to get the coordinates of all the wished places near to our offices: a kindergarten, a Starbucks, a basketball stadium, a vegan food restaurant, a party club and a dog hairdresser. I created a different csv for each dataset of coordinates that I store for later analysis."
   ]
  },
  {
   "cell_type": "code",
   "execution_count": null,
   "metadata": {},
   "outputs": [],
   "source": [
    "import pandas as pd\n",
    "from folium import Map, Marker, Icon, FeatureGroup, LayerControl, Choropleth\n",
    "from folium.plugins import HeatMap\n",
    "from folium.vector_layers import Circle, Polygon\n",
    "from api_query import query_foursquare_explore\n",
    "from api_query import query_foursquare_search"
   ]
  },
  {
   "cell_type": "markdown",
   "metadata": {},
   "source": [
    "## Kindergarten"
   ]
  },
  {
   "cell_type": "code",
   "execution_count": 112,
   "metadata": {},
   "outputs": [],
   "source": [
    "search_k=query_foursquare_search(\"kindergarten\",\"Los Angeles\")"
   ]
  },
  {
   "cell_type": "code",
   "execution_count": 142,
   "metadata": {},
   "outputs": [],
   "source": [
    "kindergartens = [[i['location']['labeledLatLngs'][0]['lng'],i['location']['labeledLatLngs'][0]['lat']] for i in search_k['response']['venues']]    \n",
    "cities_k = [i['location']['formattedAddress'][-2] for i in search_k['response']['venues']]\n"
   ]
  },
  {
   "cell_type": "code",
   "execution_count": 143,
   "metadata": {},
   "outputs": [],
   "source": [
    "city_kindergartens_lst=[]\n",
    "for i in range(len(kindergartens)):\n",
    "        city_kindergarten = {\"city\":cities_k[i],\"kindergarten\":kindergartens[i]}\n",
    "        city_kindergartens_lst.append(city_kindergarten)"
   ]
  },
  {
   "cell_type": "code",
   "execution_count": 144,
   "metadata": {},
   "outputs": [
    {
     "data": {
      "text/html": [
       "<div>\n",
       "<style scoped>\n",
       "    .dataframe tbody tr th:only-of-type {\n",
       "        vertical-align: middle;\n",
       "    }\n",
       "\n",
       "    .dataframe tbody tr th {\n",
       "        vertical-align: top;\n",
       "    }\n",
       "\n",
       "    .dataframe thead th {\n",
       "        text-align: right;\n",
       "    }\n",
       "</style>\n",
       "<table border=\"1\" class=\"dataframe\">\n",
       "  <thead>\n",
       "    <tr style=\"text-align: right;\">\n",
       "      <th></th>\n",
       "      <th>city</th>\n",
       "      <th>kindergarten</th>\n",
       "    </tr>\n",
       "  </thead>\n",
       "  <tbody>\n",
       "    <tr>\n",
       "      <th>0</th>\n",
       "      <td>San Gabriel, CA 91776</td>\n",
       "      <td>[-118.1077970264596, 34.09603300498706]</td>\n",
       "    </tr>\n",
       "    <tr>\n",
       "      <th>1</th>\n",
       "      <td>Los Angeles, CA 90033</td>\n",
       "      <td>[-118.21939, 34.05306]</td>\n",
       "    </tr>\n",
       "    <tr>\n",
       "      <th>2</th>\n",
       "      <td>Los Angeles, CA 90041</td>\n",
       "      <td>[-118.214986, 34.130836]</td>\n",
       "    </tr>\n",
       "    <tr>\n",
       "      <th>3</th>\n",
       "      <td>California</td>\n",
       "      <td>[-118.09561920166016, 34.09136199951172]</td>\n",
       "    </tr>\n",
       "    <tr>\n",
       "      <th>4</th>\n",
       "      <td>El Monte, CA 91731</td>\n",
       "      <td>[-118.03980800000001, 34.073071]</td>\n",
       "    </tr>\n",
       "  </tbody>\n",
       "</table>\n",
       "</div>"
      ],
      "text/plain": [
       "                    city                              kindergarten\n",
       "0  San Gabriel, CA 91776   [-118.1077970264596, 34.09603300498706]\n",
       "1  Los Angeles, CA 90033                    [-118.21939, 34.05306]\n",
       "2  Los Angeles, CA 90041                  [-118.214986, 34.130836]\n",
       "3             California  [-118.09561920166016, 34.09136199951172]\n",
       "4     El Monte, CA 91731          [-118.03980800000001, 34.073071]"
      ]
     },
     "execution_count": 144,
     "metadata": {},
     "output_type": "execute_result"
    }
   ],
   "source": [
    "df_kindergartens=pd.DataFrame(city_kindergartens_lst)\n",
    "df_kindergartens.to_csv('kindergartens.csv')\n",
    "df_kindergartens.head()"
   ]
  },
  {
   "cell_type": "code",
   "execution_count": 116,
   "metadata": {},
   "outputs": [],
   "source": [
    "m = Map(location=[34.047469, -118.246317],zoom_start=4)\n",
    "for i, row in df_kindergartens.iterrows():\n",
    "    city = {\n",
    "        \"location\":row[\"kindergarten\"],\n",
    "        \"popup\":\"kindergarten\",\n",
    "        \"tooltip\":row[\"city\"]\n",
    "    }\n",
    "\n",
    "    ic = Icon(color=\"blue\",\n",
    "              prefix=\"fa\",\n",
    "              icon=\"child\")\n",
    "    Marker(**city, icon=ic).add_to(m)"
   ]
  },
  {
   "cell_type": "markdown",
   "metadata": {},
   "source": [
    "## Starbucks"
   ]
  },
  {
   "cell_type": "code",
   "execution_count": 118,
   "metadata": {},
   "outputs": [],
   "source": [
    "search_s = query_foursquare_explore(\"starbucks\",\"Los Angeles\")"
   ]
  },
  {
   "cell_type": "code",
   "execution_count": 145,
   "metadata": {},
   "outputs": [],
   "source": [
    "starbucks = [[i['venue']['location']['lng'],i['venue']['location']['lat']] for i in search_s['response']['groups'][0]['items']]\n",
    "cities_s = [i['venue']['location']['formattedAddress'][-2] for i in search_s['response']['groups'][0]['items']]"
   ]
  },
  {
   "cell_type": "code",
   "execution_count": 146,
   "metadata": {},
   "outputs": [],
   "source": [
    "city_starbucks_lst=[]\n",
    "for i in range(len(starbucks)):\n",
    "        city_starbuck = {\"city\":cities_s[i],\"starbuck\":starbucks[i]}\n",
    "        city_starbucks_lst.append(city_starbuck)"
   ]
  },
  {
   "cell_type": "code",
   "execution_count": 147,
   "metadata": {},
   "outputs": [
    {
     "data": {
      "text/html": [
       "<div>\n",
       "<style scoped>\n",
       "    .dataframe tbody tr th:only-of-type {\n",
       "        vertical-align: middle;\n",
       "    }\n",
       "\n",
       "    .dataframe tbody tr th {\n",
       "        vertical-align: top;\n",
       "    }\n",
       "\n",
       "    .dataframe thead th {\n",
       "        text-align: right;\n",
       "    }\n",
       "</style>\n",
       "<table border=\"1\" class=\"dataframe\">\n",
       "  <thead>\n",
       "    <tr style=\"text-align: right;\">\n",
       "      <th></th>\n",
       "      <th>city</th>\n",
       "      <th>starbuck</th>\n",
       "    </tr>\n",
       "  </thead>\n",
       "  <tbody>\n",
       "    <tr>\n",
       "      <th>0</th>\n",
       "      <td>Los Angeles, CA 90012</td>\n",
       "      <td>[-118.24024876785406, 34.05877990357595]</td>\n",
       "    </tr>\n",
       "    <tr>\n",
       "      <th>1</th>\n",
       "      <td>Los Angeles, CA 90036</td>\n",
       "      <td>[-118.3441787476043, 34.06711292093809]</td>\n",
       "    </tr>\n",
       "    <tr>\n",
       "      <th>2</th>\n",
       "      <td>Los Angeles, CA 90026</td>\n",
       "      <td>[-118.26489718236814, 34.07718627690432]</td>\n",
       "    </tr>\n",
       "    <tr>\n",
       "      <th>3</th>\n",
       "      <td>Hollywood, CA 90038</td>\n",
       "      <td>[-118.33882326225402, 34.086919406051926]</td>\n",
       "    </tr>\n",
       "    <tr>\n",
       "      <th>4</th>\n",
       "      <td>Los Angeles, CA 90017</td>\n",
       "      <td>[-118.25852634103549, 34.04816305210899]</td>\n",
       "    </tr>\n",
       "  </tbody>\n",
       "</table>\n",
       "</div>"
      ],
      "text/plain": [
       "                    city                                   starbuck\n",
       "0  Los Angeles, CA 90012   [-118.24024876785406, 34.05877990357595]\n",
       "1  Los Angeles, CA 90036    [-118.3441787476043, 34.06711292093809]\n",
       "2  Los Angeles, CA 90026   [-118.26489718236814, 34.07718627690432]\n",
       "3    Hollywood, CA 90038  [-118.33882326225402, 34.086919406051926]\n",
       "4  Los Angeles, CA 90017   [-118.25852634103549, 34.04816305210899]"
      ]
     },
     "execution_count": 147,
     "metadata": {},
     "output_type": "execute_result"
    }
   ],
   "source": [
    "df_starbucks=pd.DataFrame(city_starbucks_lst)\n",
    "df_starbucks.to_csv('starbucks.csv')\n",
    "df_starbucks.head()"
   ]
  },
  {
   "cell_type": "markdown",
   "metadata": {},
   "source": [
    "## Basketball stadium"
   ]
  },
  {
   "cell_type": "code",
   "execution_count": 123,
   "metadata": {},
   "outputs": [],
   "source": [
    "search_b = query_foursquare_explore(\"basketball stadium\",\"Los Angeles\")"
   ]
  },
  {
   "cell_type": "code",
   "execution_count": 148,
   "metadata": {},
   "outputs": [],
   "source": [
    "stadium = [[i['venue']['location']['lng'],i['venue']['location']['lat']] for i in search_b['response']['groups'][0]['items']]\n",
    "cities_b = [i['venue']['location']['formattedAddress'][-2] for i in search_b['response']['groups'][0]['items']]"
   ]
  },
  {
   "cell_type": "code",
   "execution_count": 149,
   "metadata": {},
   "outputs": [],
   "source": [
    "city_stadium_lst=[]\n",
    "for i in range(len(stadium)):\n",
    "        city_stadium = {\"city\":cities_b[i],\"stadium\":stadium[i]}\n",
    "        city_stadium_lst.append(city_stadium)"
   ]
  },
  {
   "cell_type": "code",
   "execution_count": 150,
   "metadata": {},
   "outputs": [
    {
     "data": {
      "text/html": [
       "<div>\n",
       "<style scoped>\n",
       "    .dataframe tbody tr th:only-of-type {\n",
       "        vertical-align: middle;\n",
       "    }\n",
       "\n",
       "    .dataframe tbody tr th {\n",
       "        vertical-align: top;\n",
       "    }\n",
       "\n",
       "    .dataframe thead th {\n",
       "        text-align: right;\n",
       "    }\n",
       "</style>\n",
       "<table border=\"1\" class=\"dataframe\">\n",
       "  <thead>\n",
       "    <tr style=\"text-align: right;\">\n",
       "      <th></th>\n",
       "      <th>city</th>\n",
       "      <th>stadium</th>\n",
       "    </tr>\n",
       "  </thead>\n",
       "  <tbody>\n",
       "    <tr>\n",
       "      <th>0</th>\n",
       "      <td>Los Angeles, CA 90015</td>\n",
       "      <td>[-118.26719093124382, 34.043084694520346]</td>\n",
       "    </tr>\n",
       "    <tr>\n",
       "      <th>1</th>\n",
       "      <td>Tujunga, CA 91040</td>\n",
       "      <td>[-118.29897786502363, 34.262854250541324]</td>\n",
       "    </tr>\n",
       "    <tr>\n",
       "      <th>2</th>\n",
       "      <td>Los Angeles, CA</td>\n",
       "      <td>[-118.26695182852772, 34.043281733980876]</td>\n",
       "    </tr>\n",
       "    <tr>\n",
       "      <th>3</th>\n",
       "      <td>Los Angeles, CA 90015</td>\n",
       "      <td>[-118.26746571534997, 34.04319147850755]</td>\n",
       "    </tr>\n",
       "    <tr>\n",
       "      <th>4</th>\n",
       "      <td>Los Angeles, CA 90095</td>\n",
       "      <td>[-118.44482335324683, 34.07097798709694]</td>\n",
       "    </tr>\n",
       "  </tbody>\n",
       "</table>\n",
       "</div>"
      ],
      "text/plain": [
       "                    city                                    stadium\n",
       "0  Los Angeles, CA 90015  [-118.26719093124382, 34.043084694520346]\n",
       "1      Tujunga, CA 91040  [-118.29897786502363, 34.262854250541324]\n",
       "2        Los Angeles, CA  [-118.26695182852772, 34.043281733980876]\n",
       "3  Los Angeles, CA 90015   [-118.26746571534997, 34.04319147850755]\n",
       "4  Los Angeles, CA 90095   [-118.44482335324683, 34.07097798709694]"
      ]
     },
     "execution_count": 150,
     "metadata": {},
     "output_type": "execute_result"
    }
   ],
   "source": [
    "df_basket_stadium=pd.DataFrame(city_stadium_lst)\n",
    "df_basket_stadium.to_csv('basket_stadium.csv')\n",
    "df_basket_stadium.head(5)"
   ]
  },
  {
   "cell_type": "markdown",
   "metadata": {},
   "source": [
    "## Dog hairdresser"
   ]
  },
  {
   "cell_type": "code",
   "execution_count": 69,
   "metadata": {},
   "outputs": [],
   "source": [
    "search_dh = query_foursquare_explore(\"dog hairdresser\",\"Los Angeles\")"
   ]
  },
  {
   "cell_type": "code",
   "execution_count": 151,
   "metadata": {},
   "outputs": [],
   "source": [
    "dog_hairdresser = [[i['venue']['location']['lng'],i['venue']['location']['lat']] for i in search_dh['response']['groups'][0]['items']]\n",
    "cities_dh = [i['venue']['location']['formattedAddress'][-2] for i in search_dh['response']['groups'][0]['items']]"
   ]
  },
  {
   "cell_type": "code",
   "execution_count": 152,
   "metadata": {},
   "outputs": [],
   "source": [
    "dog_hairdresser_lst=[]\n",
    "for i in range(len(dog_hairdresser)):\n",
    "        city_dog_hairdresser = {\"city\":cities_dh[i],\"dog_hairdresser\":dog_hairdresser[i]}\n",
    "        dog_hairdresser_lst.append(city_dog_hairdresser)"
   ]
  },
  {
   "cell_type": "code",
   "execution_count": 153,
   "metadata": {
    "scrolled": true
   },
   "outputs": [
    {
     "data": {
      "text/html": [
       "<div>\n",
       "<style scoped>\n",
       "    .dataframe tbody tr th:only-of-type {\n",
       "        vertical-align: middle;\n",
       "    }\n",
       "\n",
       "    .dataframe tbody tr th {\n",
       "        vertical-align: top;\n",
       "    }\n",
       "\n",
       "    .dataframe thead th {\n",
       "        text-align: right;\n",
       "    }\n",
       "</style>\n",
       "<table border=\"1\" class=\"dataframe\">\n",
       "  <thead>\n",
       "    <tr style=\"text-align: right;\">\n",
       "      <th></th>\n",
       "      <th>city</th>\n",
       "      <th>dog_hairdresser</th>\n",
       "    </tr>\n",
       "  </thead>\n",
       "  <tbody>\n",
       "    <tr>\n",
       "      <th>0</th>\n",
       "      <td>Pasadena, CA 91105</td>\n",
       "      <td>[-118.148375, 34.1446723]</td>\n",
       "    </tr>\n",
       "    <tr>\n",
       "      <th>1</th>\n",
       "      <td>Los Angeles, CA 90026</td>\n",
       "      <td>[-118.2597466610646, 34.07882717350257]</td>\n",
       "    </tr>\n",
       "    <tr>\n",
       "      <th>2</th>\n",
       "      <td>Burbank, CA 91505</td>\n",
       "      <td>[-118.34081228017457, 34.15075983229739]</td>\n",
       "    </tr>\n",
       "    <tr>\n",
       "      <th>3</th>\n",
       "      <td>Pasadena, CA 91106</td>\n",
       "      <td>[-118.12150556927679, 34.14790768106961]</td>\n",
       "    </tr>\n",
       "    <tr>\n",
       "      <th>4</th>\n",
       "      <td>North Hollywood, CA 91601</td>\n",
       "      <td>[-118.37236562800793, 34.16063603716144]</td>\n",
       "    </tr>\n",
       "  </tbody>\n",
       "</table>\n",
       "</div>"
      ],
      "text/plain": [
       "                        city                           dog_hairdresser\n",
       "0         Pasadena, CA 91105                 [-118.148375, 34.1446723]\n",
       "1      Los Angeles, CA 90026   [-118.2597466610646, 34.07882717350257]\n",
       "2          Burbank, CA 91505  [-118.34081228017457, 34.15075983229739]\n",
       "3         Pasadena, CA 91106  [-118.12150556927679, 34.14790768106961]\n",
       "4  North Hollywood, CA 91601  [-118.37236562800793, 34.16063603716144]"
      ]
     },
     "execution_count": 153,
     "metadata": {},
     "output_type": "execute_result"
    }
   ],
   "source": [
    "df_dog_hairdresser=pd.DataFrame(dog_hairdresser_lst)\n",
    "df_dog_hairdresser.to_csv('dog_hairdressers.csv')\n",
    "df_dog_hairdresser.head(5)"
   ]
  },
  {
   "cell_type": "markdown",
   "metadata": {},
   "source": [
    "## Vegan food"
   ]
  },
  {
   "cell_type": "code",
   "execution_count": 101,
   "metadata": {},
   "outputs": [],
   "source": [
    "search_vf = query_foursquare_explore(\"vegan food\",\"Los Angeles\")"
   ]
  },
  {
   "cell_type": "code",
   "execution_count": 154,
   "metadata": {},
   "outputs": [],
   "source": [
    "vegan_food = [[i['venue']['location']['lng'],i['venue']['location']['lat']] for i in search_vf['response']['groups'][0]['items']]\n",
    "cities_vf = [i['venue']['location']['formattedAddress'][-2] for i in search_vf['response']['groups'][0]['items']]"
   ]
  },
  {
   "cell_type": "code",
   "execution_count": 155,
   "metadata": {},
   "outputs": [],
   "source": [
    "vegan_food_lst=[]\n",
    "for i in range(len(vegan_food)):\n",
    "        city_vegan_food = {\"city\":cities_vf[i],\"vegan_food\":vegan_food[i]}\n",
    "        vegan_food_lst.append(city_vegan_food)"
   ]
  },
  {
   "cell_type": "code",
   "execution_count": 156,
   "metadata": {
    "scrolled": true
   },
   "outputs": [
    {
     "data": {
      "text/html": [
       "<div>\n",
       "<style scoped>\n",
       "    .dataframe tbody tr th:only-of-type {\n",
       "        vertical-align: middle;\n",
       "    }\n",
       "\n",
       "    .dataframe tbody tr th {\n",
       "        vertical-align: top;\n",
       "    }\n",
       "\n",
       "    .dataframe thead th {\n",
       "        text-align: right;\n",
       "    }\n",
       "</style>\n",
       "<table border=\"1\" class=\"dataframe\">\n",
       "  <thead>\n",
       "    <tr style=\"text-align: right;\">\n",
       "      <th></th>\n",
       "      <th>city</th>\n",
       "      <th>vegan_food</th>\n",
       "    </tr>\n",
       "  </thead>\n",
       "  <tbody>\n",
       "    <tr>\n",
       "      <th>0</th>\n",
       "      <td>Los Angeles, CA 90004</td>\n",
       "      <td>[-118.3238069457162, 34.08293949353896]</td>\n",
       "    </tr>\n",
       "    <tr>\n",
       "      <th>1</th>\n",
       "      <td>Los Angeles, CA 90046</td>\n",
       "      <td>[-118.37021756510343, 34.08355377036199]</td>\n",
       "    </tr>\n",
       "    <tr>\n",
       "      <th>2</th>\n",
       "      <td>Los Angeles, CA 90039</td>\n",
       "      <td>[-118.2584507, 34.1028766]</td>\n",
       "    </tr>\n",
       "    <tr>\n",
       "      <th>3</th>\n",
       "      <td>Los Angeles, CA 90038</td>\n",
       "      <td>[-118.3276556046501, 34.0941055323146]</td>\n",
       "    </tr>\n",
       "    <tr>\n",
       "      <th>4</th>\n",
       "      <td>Los Angeles, CA 90048</td>\n",
       "      <td>[-118.3730298244673, 34.07623651196047]</td>\n",
       "    </tr>\n",
       "  </tbody>\n",
       "</table>\n",
       "</div>"
      ],
      "text/plain": [
       "                    city                                vegan_food\n",
       "0  Los Angeles, CA 90004   [-118.3238069457162, 34.08293949353896]\n",
       "1  Los Angeles, CA 90046  [-118.37021756510343, 34.08355377036199]\n",
       "2  Los Angeles, CA 90039                [-118.2584507, 34.1028766]\n",
       "3  Los Angeles, CA 90038    [-118.3276556046501, 34.0941055323146]\n",
       "4  Los Angeles, CA 90048   [-118.3730298244673, 34.07623651196047]"
      ]
     },
     "execution_count": 156,
     "metadata": {},
     "output_type": "execute_result"
    }
   ],
   "source": [
    "df_vegan_food=pd.DataFrame(vegan_food_lst)\n",
    "df_vegan_food.to_csv('vegan_food.csv')\n",
    "df_vegan_food.head(5)"
   ]
  },
  {
   "cell_type": "markdown",
   "metadata": {},
   "source": [
    "## Party clubs"
   ]
  },
  {
   "cell_type": "code",
   "execution_count": 107,
   "metadata": {},
   "outputs": [],
   "source": [
    "search_pc = query_foursquare_explore(\"party club\",\"Los Angeles\")"
   ]
  },
  {
   "cell_type": "code",
   "execution_count": 157,
   "metadata": {},
   "outputs": [],
   "source": [
    "party_clubs = [[i['venue']['location']['lng'],i['venue']['location']['lat']] for i in search_pc['response']['groups'][0]['items']]\n",
    "cities_pc = [i['venue']['location']['formattedAddress'][-2] for i in search_pc['response']['groups'][0]['items']]"
   ]
  },
  {
   "cell_type": "code",
   "execution_count": 158,
   "metadata": {},
   "outputs": [],
   "source": [
    "party_clubs_lst=[]\n",
    "for i in range(len(party_clubs)):\n",
    "        city_party_clubs = {\"city\":cities_pc[i],\"party_club\":party_clubs[i]}\n",
    "        party_clubs_lst.append(city_party_clubs)"
   ]
  },
  {
   "cell_type": "code",
   "execution_count": 159,
   "metadata": {
    "scrolled": true
   },
   "outputs": [
    {
     "data": {
      "text/html": [
       "<div>\n",
       "<style scoped>\n",
       "    .dataframe tbody tr th:only-of-type {\n",
       "        vertical-align: middle;\n",
       "    }\n",
       "\n",
       "    .dataframe tbody tr th {\n",
       "        vertical-align: top;\n",
       "    }\n",
       "\n",
       "    .dataframe thead th {\n",
       "        text-align: right;\n",
       "    }\n",
       "</style>\n",
       "<table border=\"1\" class=\"dataframe\">\n",
       "  <thead>\n",
       "    <tr style=\"text-align: right;\">\n",
       "      <th></th>\n",
       "      <th>city</th>\n",
       "      <th>party_club</th>\n",
       "    </tr>\n",
       "  </thead>\n",
       "  <tbody>\n",
       "    <tr>\n",
       "      <th>0</th>\n",
       "      <td>Los Angeles, CA 90028</td>\n",
       "      <td>[-118.33495765278985, 34.101275021356834]</td>\n",
       "    </tr>\n",
       "    <tr>\n",
       "      <th>1</th>\n",
       "      <td>Los Angeles, CA 90014</td>\n",
       "      <td>[-118.25457241874592, 34.04768494041055]</td>\n",
       "    </tr>\n",
       "    <tr>\n",
       "      <th>2</th>\n",
       "      <td>Los Angeles, CA 90028</td>\n",
       "      <td>[-118.32850915573077, 34.10156574286022]</td>\n",
       "    </tr>\n",
       "    <tr>\n",
       "      <th>3</th>\n",
       "      <td>Los Angeles, CA 90012</td>\n",
       "      <td>[-118.23759107876778, 34.06515202118792]</td>\n",
       "    </tr>\n",
       "    <tr>\n",
       "      <th>4</th>\n",
       "      <td>Hollywood, CA 90028</td>\n",
       "      <td>[-118.33502304537807, 34.101108036056566]</td>\n",
       "    </tr>\n",
       "  </tbody>\n",
       "</table>\n",
       "</div>"
      ],
      "text/plain": [
       "                    city                                 party_club\n",
       "0  Los Angeles, CA 90028  [-118.33495765278985, 34.101275021356834]\n",
       "1  Los Angeles, CA 90014   [-118.25457241874592, 34.04768494041055]\n",
       "2  Los Angeles, CA 90028   [-118.32850915573077, 34.10156574286022]\n",
       "3  Los Angeles, CA 90012   [-118.23759107876778, 34.06515202118792]\n",
       "4    Hollywood, CA 90028  [-118.33502304537807, 34.101108036056566]"
      ]
     },
     "execution_count": 159,
     "metadata": {},
     "output_type": "execute_result"
    }
   ],
   "source": [
    "df_party_clubs=pd.DataFrame(party_clubs_lst)\n",
    "df_party_clubs.to_csv('party_clubs.csv')\n",
    "df_party_clubs.head(5)"
   ]
  }
 ],
 "metadata": {
  "kernelspec": {
   "display_name": "Python 3",
   "language": "python",
   "name": "python3.8"
  },
  "language_info": {
   "codemirror_mode": {
    "name": "ipython",
    "version": 3
   },
   "file_extension": ".py",
   "mimetype": "text/x-python",
   "name": "python",
   "nbconvert_exporter": "python",
   "pygments_lexer": "ipython3",
   "version": "3.8.6"
  }
 },
 "nbformat": 4,
 "nbformat_minor": 4
}
